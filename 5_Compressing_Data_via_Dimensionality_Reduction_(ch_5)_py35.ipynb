{
  "nbformat": 4,
  "nbformat_minor": 0,
  "metadata": {
    "kernelspec": {
      "display_name": "Python 3",
      "language": "python",
      "name": "python3"
    },
    "language_info": {
      "codemirror_mode": {
        "name": "ipython",
        "version": 3
      },
      "file_extension": ".py",
      "mimetype": "text/x-python",
      "name": "python",
      "nbconvert_exporter": "python",
      "pygments_lexer": "ipython3",
      "version": "3.6.4"
    },
    "colab": {
      "name": "5 - Compressing Data via Dimensionality Reduction (ch. 5) py35.ipynb",
      "provenance": [],
      "collapsed_sections": []
    }
  },
  "cells": [
    {
      "cell_type": "markdown",
      "metadata": {
        "id": "1uwqYcVDtRju",
        "colab_type": "text"
      },
      "source": [
        "### Dimensionality Reduction\n",
        " - <b>PCA</b> (Pricipal Component Analysis): for unsupervised data compression\n",
        " - <b>LDA</b> (Linear Discriminant Analysis): supervised dimensionality reduction technique for maximizing class seperability\n",
        " - <b>Kernel Pricipal Component Analysis</b>: nonlinear dimentionality reduction"
      ]
    },
    {
      "cell_type": "markdown",
      "metadata": {
        "id": "B4NbbSuytRjy",
        "colab_type": "text"
      },
      "source": [
        "#### Unsupervised dimensionality reduction via principal component analysis"
      ]
    },
    {
      "cell_type": "markdown",
      "metadata": {
        "id": "3eRgeY4ctRj0",
        "colab_type": "text"
      },
      "source": [
        "PCA\n",
        "1. Standardize the d-dimensionality reduction via principal component analysis-dimensional dataset.\n",
        "2. Construct the covariance matrix.\n",
        "3. Decompose the covariance matrix into its eigenvectors and eigenvalues.\n",
        "4. Select k-dimensionality eigenvectors that correspond to the k largest eigenvalues, where k is the dimensionality of the new feature subspace (k<=d).\n",
        "5. Construct a projection matrix W from the \"top\" k eigenvectors.\n",
        "6. Transform the d-dimensional input dataset X using the projection matrix W to obtain the new k-dimensional feature subspace."
      ]
    },
    {
      "cell_type": "markdown",
      "metadata": {
        "id": "5u_3-is6tRj2",
        "colab_type": "text"
      },
      "source": [
        "###### Total and explained variance (first 4 steps of PCA)"
      ]
    },
    {
      "cell_type": "code",
      "metadata": {
        "id": "5yYuCXhatRj5",
        "colab_type": "code",
        "colab": {}
      },
      "source": [
        "## Wine dataset\n",
        "import pandas as pd\n",
        "df_wine = pd.read_csv('http://archive.ics.uci.edu/ml/machine-learning-databases/wine/wine.data', \n",
        "                      header=None)"
      ],
      "execution_count": 0,
      "outputs": []
    },
    {
      "cell_type": "code",
      "metadata": {
        "id": "xyO1IEP4tRkB",
        "colab_type": "code",
        "colab": {}
      },
      "source": [
        "## Split into train/test sets, 70/30 split respectively\n",
        "### and standardize it to unit variance\n",
        "#Step 1\n",
        "from sklearn.model_selection import train_test_split\n",
        "from sklearn.preprocessing import StandardScaler\n",
        "\n",
        "X, y = df_wine.iloc[:,1:].values, df_wine.iloc[:,0].values\n",
        "X_train, X_test, y_train, y_test = \\\n",
        "             train_test_split(X, y,\n",
        "             test_size=0.3, random_state=0)\n",
        "sc = StandardScaler()\n",
        "X_train_std = sc.fit_transform(X_train)\n",
        "X_test_std = sc.fit_transform(X_test)\n"
      ],
      "execution_count": 0,
      "outputs": []
    },
    {
      "cell_type": "code",
      "metadata": {
        "id": "ulYA31QvtRkN",
        "colab_type": "code",
        "outputId": "c8936dba-302f-4487-ad62-52d773bad2f5",
        "colab": {
          "base_uri": "https://localhost:8080/",
          "height": 102
        }
      },
      "source": [
        "## Constructing the covariance matrix\n",
        "# step 2\n",
        "import numpy as np\n",
        "cov_mat = np.cov(X_test_std.T)\n",
        "eigen_vals, eigen_vecs = np.linalg.eig(cov_mat)\n",
        "print ('\\nEigenvalues \\n%s' % eigen_vals)"
      ],
      "execution_count": 3,
      "outputs": [
        {
          "output_type": "stream",
          "text": [
            "\n",
            "Eigenvalues \n",
            "[4.56925538 2.77783959 1.5624868  1.28185891 0.90546391 0.60179815\n",
            " 0.44416355 0.11558188 0.12690572 0.16476973 0.20106681 0.25505244\n",
            " 0.23904014]\n"
          ],
          "name": "stdout"
        }
      ]
    },
    {
      "cell_type": "code",
      "metadata": {
        "id": "hgxrzB4ftRkV",
        "colab_type": "code",
        "outputId": "b99ec0f9-a556-45bc-d85b-1e96b68dc1b5",
        "colab": {
          "base_uri": "https://localhost:8080/",
          "height": 283
        }
      },
      "source": [
        "## sum of explained variance\n",
        "## using cumsum (cumulative sum)\n",
        "### then plot\n",
        "tot = sum(eigen_vals)\n",
        "var_exp = [(i / tot) for i in sorted(eigen_vals, reverse=True)]\n",
        "cum_var_exp = np.cumsum(var_exp)\n",
        "import matplotlib.pyplot as plt\n",
        "%matplotlib inline\n",
        "plt.bar(range(1,14), var_exp, alpha=0.5, align='center',\n",
        "       label='individual explained variance')\n",
        "plt.step(range(1,14), cum_var_exp, where='mid',\n",
        "        label='cumulative explained variance')\n",
        "plt.ylabel('Explained variance ratio')\n",
        "plt.xlabel('Principal components')\n",
        "plt.legend(loc='best')\n",
        "plt.show()\n"
      ],
      "execution_count": 4,
      "outputs": [
        {
          "output_type": "display_data",
          "data": {
            "image/png": "[encoded data removed]",
            "text/plain": [
              "<Figure size 432x288 with 1 Axes>"
            ]
          },
          "metadata": {
            "tags": []
          }
        }
      ]
    },
    {
      "cell_type": "markdown",
      "metadata": {
        "id": "nn26RZMBtRkb",
        "colab_type": "text"
      },
      "source": [
        "### Feature transformation\n",
        "(last 4 steps for PCA)"
      ]
    },
    {
      "cell_type": "code",
      "metadata": {
        "id": "MTsMK8HjtRkd",
        "colab_type": "code",
        "colab": {}
      },
      "source": [
        "## sort eigenpairs by decreasing order of the eigenvalues\n",
        "eigen_pairs = [(np.abs(eigen_vals[i], eigen_vecs[:,i])\n",
        "               for i in range(len(eigen_vals)))]\n",
        "eigen_pairs.sort(reverse=True)"
      ],
      "execution_count": 0,
      "outputs": []
    },
    {
      "cell_type": "code",
      "metadata": {
        "id": "hTR0j371tRkl",
        "colab_type": "code",
        "outputId": "d5c33408-5c1e-4fdd-97dd-fe1c64ce146f",
        "colab": {
          "base_uri": "https://localhost:8080/",
          "height": 34
        }
      },
      "source": [
        "## here we will choose top two eigenvectors(for illustration),\n",
        "## that correspond to the larges values to capture, ~60% of \n",
        "## the variance in this dataset\n",
        "####\n",
        "# IN PRACTICE: the number of Pricipal Components has to be \n",
        "# determined from a trade-off between computational efficiency \n",
        "# and the performance of the classifier\n",
        "\n",
        "# eigen_pairs = list(eigen_pairs)\n",
        "# w= np.hstack((eigen_pairs[0][1][:, np.newaxis],\n",
        "#               eigen_pairs[1][1][:, np.newaxis]))\n",
        "# print('Matrix W:\\n',w)\n",
        "# Matrix W:\n",
        "# [[ 0.14669811  0.50417079]\n",
        "# [-0.24224554  0.24216889]\n",
        "# [-0.02993442  0.28698484]\n",
        "# [-0.25519002 -0.06468718]\n",
        "# [ 0.12079772  0.22995385]\n",
        "# [ 0.38934455  0.09363991]\n",
        "# [ 0.42326486  0.01088622]\n",
        "# [-0.30634956  0.01870216]\n",
        "# [ 0.30572219  0.03040352]\n",
        "# [-0.09869191  0.54527081]\n",
        "# [ 0.30032535 -0.27924322]\n",
        "# [ 0.36821154 -0.174365  ]\n",
        "# [ 0.29259713  0.36315461]]\n",
        "w =np.array([\n",
        "    [ 0.14669811,  0.50417079],\n",
        "    [-0.24224554,  0.24216889],\n",
        "    [-0.02993442,  0.28698484],\n",
        "    [-0.25519002, -0.06468718],\n",
        "    [ 0.12079772,  0.22995385],\n",
        "    [ 0.38934455,  0.09363991],\n",
        "    [ 0.42326486,  0.01088622],\n",
        "    [-0.30634956,  0.01870216],\n",
        "    [ 0.30572219,  0.03040352],\n",
        "    [-0.09869191,  0.54527081],\n",
        "    [ 0.30032535, -0.27924322],\n",
        "    [ 0.36821154, -0.174365  ],\n",
        "    [ 0.29259713,  0.36315461]])\n",
        "w.shape"
      ],
      "execution_count": 6,
      "outputs": [
        {
          "output_type": "execute_result",
          "data": {
            "text/plain": [
              "(13, 2)"
            ]
          },
          "metadata": {
            "tags": []
          },
          "execution_count": 6
        }
      ]
    },
    {
      "cell_type": "code",
      "metadata": {
        "id": "G88dKDRdtRks",
        "colab_type": "code",
        "outputId": "57440751-03c1-4d21-b052-1909a4786c25",
        "colab": {
          "base_uri": "https://localhost:8080/",
          "height": 34
        }
      },
      "source": [
        "## transform sample x(1x13 row vector) onto PCA subspace\n",
        "## obtaining x', a now two-dimentional sample vector\n",
        "## consisting of the new features: x' = xW\n",
        "X_train_std[0].dot(w)"
      ],
      "execution_count": 7,
      "outputs": [
        {
          "output_type": "execute_result",
          "data": {
            "text/plain": [
              "array([2.59891629, 0.00484089])"
            ]
          },
          "metadata": {
            "tags": []
          },
          "execution_count": 7
        }
      ]
    },
    {
      "cell_type": "code",
      "metadata": {
        "id": "7lOHPS-9tRky",
        "colab_type": "code",
        "outputId": "728ef6cd-2369-46c5-e74a-a77adc967fb7",
        "colab": {
          "base_uri": "https://localhost:8080/",
          "height": 34
        }
      },
      "source": [
        "## can similarly transform entire training set onto\n",
        "## 2 principal components by cal matrix dot prod: X' = XW\n",
        "X_train_pca = X_train_std.dot(w)\n",
        "# a = []\n",
        "# for i in range(X_train_pca.shape[0]):\n",
        "#     a.append(list([X_train_pca[i][0,0], X_train_pca[i][0,1]]))\n",
        "\n",
        "# # X_train_pca[0][1,0]\n",
        "# a = np.array(a)\n",
        "# a = np.asmatrix(a)\n",
        "# X_train_pca = a\n",
        "X_train_pca.shape"
      ],
      "execution_count": 8,
      "outputs": [
        {
          "output_type": "execute_result",
          "data": {
            "text/plain": [
              "(124, 2)"
            ]
          },
          "metadata": {
            "tags": []
          },
          "execution_count": 8
        }
      ]
    },
    {
      "cell_type": "code",
      "metadata": {
        "id": "DIIicgrgtRk7",
        "colab_type": "code",
        "outputId": "7b5291b5-11f7-4ab6-cc95-9b9359fbfe74",
        "colab": {
          "base_uri": "https://localhost:8080/",
          "height": 283
        }
      },
      "source": [
        "# visualizing the transformed set\n",
        "colors = ['r', 'b', 'g']\n",
        "markers = ['s', 'x', 'o']\n",
        "for l, c, m in zip(np.unique(y_train), colors, markers):\n",
        "    plt.scatter(X_train_pca[y_train==l, 0], \n",
        "                X_train_pca[y_train==l, 1], \n",
        "                c=c, label=l, marker=m) \n",
        "plt.xlabel('PC 1')\n",
        "plt.ylabel('PC 2')\n",
        "plt.legend(loc='lower left')\n",
        "plt.show()"
      ],
      "execution_count": 9,
      "outputs": [
        {
          "output_type": "display_data",
          "data": {
            "image/png": "[encoded data removed]",
            "text/plain": [
              "<Figure size 432x288 with 1 Axes>"
            ]
          },
          "metadata": {
            "tags": []
          }
        }
      ]
    },
    {
      "cell_type": "markdown",
      "metadata": {
        "id": "XAurRm2btRlC",
        "colab_type": "text"
      },
      "source": [
        "## PCA in sklearn"
      ]
    },
    {
      "cell_type": "code",
      "metadata": {
        "id": "b-_c2fqHtRlH",
        "colab_type": "code",
        "colab": {}
      },
      "source": [
        "from matplotlib.colors import ListedColormap\n",
        "\n",
        "def plot_decision_regions(X, y, classifier, resolution=0.02):\n",
        "\n",
        "    # setup marker generator and color map\n",
        "    markers = ('s', 'x', 'o', '^', 'v')\n",
        "    colors = ('red', 'blue', 'lightgreen', 'gray', 'cyan')\n",
        "    cmap = ListedColormap(colors[:len(np.unique(y))])\n",
        "\n",
        "    # plot the decision surface\n",
        "    x1_min, x1_max = X[:, 0].min() - 1, X[:, 0].max() + 1\n",
        "    x2_min, x2_max = X[:, 1].min() - 1, X[:, 1].max() + 1\n",
        "    xx1, xx2 = np.meshgrid(np.arange(x1_min, x1_max, resolution),\n",
        "                         np.arange(x2_min, x2_max, resolution))\n",
        "    Z = classifier.predict(np.array([xx1.ravel(), xx2.ravel()]).T)\n",
        "    Z = Z.reshape(xx1.shape)\n",
        "    plt.contourf(xx1, xx2, Z, alpha=0.4, cmap=cmap)\n",
        "    plt.xlim(xx1.min(), xx1.max())\n",
        "    plt.ylim(xx2.min(), xx2.max())\n",
        "\n",
        "    # plot class samples\n",
        "    for idx, cl in enumerate(np.unique(y)):\n",
        "        plt.scatter(x=X[y == cl, 0], y=X[y == cl, 1],\n",
        "                    alpha=0.8, c=cmap(idx),\n",
        "                    marker=markers[idx], label=cl)"
      ],
      "execution_count": 0,
      "outputs": []
    },
    {
      "cell_type": "code",
      "metadata": {
        "id": "8uMOUbhktRlU",
        "colab_type": "code",
        "outputId": "3ca55851-6811-4c97-f739-753b0fd5af7b",
        "colab": {
          "base_uri": "https://localhost:8080/",
          "height": 422
        }
      },
      "source": [
        "from sklearn.linear_model import LogisticRegression\n",
        "from sklearn.decomposition import PCA\n",
        "\n",
        "pca = PCA(n_components=2)\n",
        "lr = LogisticRegression()\n",
        "X_train_pca = pca.fit_transform(X_train_std)\n",
        "X_test_pca = pca.transform(X_test_std)\n",
        "lr.fit(X_train_pca, y_train)\n",
        "plot_decision_regions(X_train_pca, y_train,\n",
        "                     classifier=lr)\n",
        "plt.xlabel('PC1')\n",
        "plt.ylabel('PC2')\n",
        "plt.legend(loc='lower left')\n",
        "plt.show()"
      ],
      "execution_count": 11,
      "outputs": [
        {
          "output_type": "stream",
          "text": [
            "/usr/local/lib/python3.6/dist-packages/sklearn/linear_model/logistic.py:432: FutureWarning: Default solver will be changed to 'lbfgs' in 0.22. Specify a solver to silence this warning.\n",
            "  FutureWarning)\n",
            "/usr/local/lib/python3.6/dist-packages/sklearn/linear_model/logistic.py:469: FutureWarning: Default multi_class will be changed to 'auto' in 0.22. Specify the multi_class option to silence this warning.\n",
            "  \"this warning.\", FutureWarning)\n",
            "'c' argument looks like a single numeric RGB or RGBA sequence, which should be avoided as value-mapping will have precedence in case its length matches with 'x' & 'y'.  Please use a 2-D array with a single row if you really want to specify the same RGB or RGBA value for all points.\n",
            "'c' argument looks like a single numeric RGB or RGBA sequence, which should be avoided as value-mapping will have precedence in case its length matches with 'x' & 'y'.  Please use a 2-D array with a single row if you really want to specify the same RGB or RGBA value for all points.\n",
            "'c' argument looks like a single numeric RGB or RGBA sequence, which should be avoided as value-mapping will have precedence in case its length matches with 'x' & 'y'.  Please use a 2-D array with a single row if you really want to specify the same RGB or RGBA value for all points.\n"
          ],
          "name": "stderr"
        },
        {
          "output_type": "display_data",
          "data": {
            "image/png": "[encoded data removed]",
            "text/plain": [
              "<Figure size 432x288 with 1 Axes>"
            ]
          },
          "metadata": {
            "tags": []
          }
        }
      ]
    },
    {
      "cell_type": "code",
      "metadata": {
        "id": "FeTzMJw4tRla",
        "colab_type": "code",
        "outputId": "5935c141-4772-4315-d8e8-3988d531d0ce",
        "colab": {
          "base_uri": "https://localhost:8080/",
          "height": 354
        }
      },
      "source": [
        "## plot decision regions of log-reg on transformed test data\n",
        "## to see if can seperate classes well\n",
        "plot_decision_regions(X_test_pca, y_test, classifier=lr)\n",
        "plt.xlabel('PC1')\n",
        "plt.ylabel('PC2')\n",
        "plt.legend(loc='lower left')\n",
        "plt.show()"
      ],
      "execution_count": 12,
      "outputs": [
        {
          "output_type": "stream",
          "text": [
            "'c' argument looks like a single numeric RGB or RGBA sequence, which should be avoided as value-mapping will have precedence in case its length matches with 'x' & 'y'.  Please use a 2-D array with a single row if you really want to specify the same RGB or RGBA value for all points.\n",
            "'c' argument looks like a single numeric RGB or RGBA sequence, which should be avoided as value-mapping will have precedence in case its length matches with 'x' & 'y'.  Please use a 2-D array with a single row if you really want to specify the same RGB or RGBA value for all points.\n",
            "'c' argument looks like a single numeric RGB or RGBA sequence, which should be avoided as value-mapping will have precedence in case its length matches with 'x' & 'y'.  Please use a 2-D array with a single row if you really want to specify the same RGB or RGBA value for all points.\n"
          ],
          "name": "stderr"
        },
        {
          "output_type": "display_data",
          "data": {
            "image/png": "[encoded data removed]",
            "text/plain": [
              "<Figure size 432x288 with 1 Axes>"
            ]
          },
          "metadata": {
            "tags": []
          }
        }
      ]
    },
    {
      "cell_type": "code",
      "metadata": {
        "id": "21yRYp7utRlg",
        "colab_type": "code",
        "outputId": "9bfa9164-1ae3-49aa-b467-b6fc0c22de4f",
        "colab": {
          "base_uri": "https://localhost:8080/",
          "height": 68
        }
      },
      "source": [
        "## If we are just interested in the variance ratios of the\n",
        "## different principal components, can initialize the \n",
        "## PCA class with n_components to None\n",
        "pca = PCA(n_components=None)\n",
        "X_train_pca = pca.fit_transform(X_train_std)\n",
        "pca.explained_variance_ratio_"
      ],
      "execution_count": 13,
      "outputs": [
        {
          "output_type": "execute_result",
          "data": {
            "text/plain": [
              "array([0.37329648, 0.18818926, 0.10896791, 0.07724389, 0.06478595,\n",
              "       0.04592014, 0.03986936, 0.02521914, 0.02258181, 0.01830924,\n",
              "       0.01635336, 0.01284271, 0.00642076])"
            ]
          },
          "metadata": {
            "tags": []
          },
          "execution_count": 13
        }
      ]
    },
    {
      "cell_type": "markdown",
      "metadata": {
        "collapsed": true,
        "id": "HqeIDwdStRlp",
        "colab_type": "text"
      },
      "source": [
        "## Supervised Data compression via Linear Discriminant Analysis (LDA)"
      ]
    },
    {
      "cell_type": "markdown",
      "metadata": {
        "id": "VwQf2QmwtRlq",
        "colab_type": "text"
      },
      "source": [
        "### LDA Steps\n",
        "1. Standardize the d-dimensional dataset (d is the number of features).\n",
        "2. For each class, compute the d-dimensional mean vector.\n",
        "3. Construct the between-class scatter matrix S_b and the within-class scatter matrix S_w.\n",
        "4. Compute the eigenvectors and corresponding eigenvalues of the matrix inv(S_w)*S_b.\n",
        "5. Choose the k eigenvectors that correspond to the k largest eigenvalues to construct a dxk-dimensional transformation matrix W; the eigenvectors are the columns of this matrix.\n",
        "6. Project the samples onto the new feature subspace using the transformation matrix W."
      ]
    },
    {
      "cell_type": "markdown",
      "metadata": {
        "id": "E7lMcEvbtRls",
        "colab_type": "text"
      },
      "source": [
        "#### NOTE\n",
        " assumptions that we make when we are using LDA are that the features are normally distributed and independent of each other. Also, the LDA algorithm assumes that the covariance matrices for the individual classes are identical. However, even if we violate those assumptions to a certain extent, LDA may still work reasonably well in dimensionality reduction and classification tasks"
      ]
    },
    {
      "cell_type": "code",
      "metadata": {
        "id": "rcrQQhChtRlu",
        "colab_type": "code",
        "outputId": "38c9a788-f455-4ab9-c01c-6cd5d8445338",
        "colab": {
          "base_uri": "https://localhost:8080/",
          "height": 170
        }
      },
      "source": [
        "# 1.calculate mean vectors\n",
        "np.set_printoptions(precision=4)\n",
        "mean_vecs = []\n",
        "labels = np.unique(y_train)\n",
        "for label in labels:\n",
        "    mean_vecs.append(np.mean(X_train_std[y_train==label], axis=0))\n",
        "\n",
        "# print mean vector\n",
        "for i in range(len(mean_vecs)):\n",
        "    print (\"MeanVector[%d] ---> \\n\" %(i), mean_vecs[i])"
      ],
      "execution_count": 14,
      "outputs": [
        {
          "output_type": "stream",
          "text": [
            "MeanVector[0] ---> \n",
            " [ 0.9259 -0.3091  0.2592 -0.7989  0.3039  0.9608  1.0515 -0.6306  0.5354\n",
            "  0.2209  0.4855  0.798   1.2017]\n",
            "MeanVector[1] ---> \n",
            " [-0.8727 -0.3854 -0.4437  0.2481 -0.2409 -0.1059  0.0187 -0.0164  0.1095\n",
            " -0.8796  0.4392  0.2776 -0.7016]\n",
            "MeanVector[2] ---> \n",
            " [ 0.1637  0.8929  0.3249  0.5658 -0.01   -0.9499 -1.228   0.7436 -0.7652\n",
            "  0.979  -1.1698 -1.3007 -0.3912]\n"
          ],
          "name": "stdout"
        }
      ]
    },
    {
      "cell_type": "code",
      "metadata": {
        "id": "V2sk4CCKtRl3",
        "colab_type": "code",
        "outputId": "754d7bb1-75bc-46e9-a5a1-6b46be82a018",
        "colab": {
          "base_uri": "https://localhost:8080/",
          "height": 34
        }
      },
      "source": [
        "# 2.Use mean vectors and compute within-class scatter matrix (S_W)\n",
        "# num_features\n",
        "d = X_train_std.shape[1]\n",
        "\n",
        "S_W = np.zeros((d,d))\n",
        "for label, mv in zip(labels, mean_vecs):\n",
        "    class_scatter = np.zeros((d,d))\n",
        "    for row in X[y== label]:\n",
        "        row = row.reshape(d,1)\n",
        "        mv = mv.reshape(d,1)\n",
        "        class_scatter += (row-mv).dot((row-mv).T)\n",
        "    S_W += class_scatter\n",
        "print(S_W.shape)"
      ],
      "execution_count": 15,
      "outputs": [
        {
          "output_type": "stream",
          "text": [
            "(13, 13)\n"
          ],
          "name": "stdout"
        }
      ]
    },
    {
      "cell_type": "code",
      "metadata": {
        "id": "8rUN2V29tRl-",
        "colab_type": "code",
        "outputId": "090ec15d-ee7d-43e1-af38-fdb1bd50ca8a",
        "colab": {
          "base_uri": "https://localhost:8080/",
          "height": 34
        }
      },
      "source": [
        "print('Class label distribution:  %s' % np.bincount(y_train)[1:])"
      ],
      "execution_count": 16,
      "outputs": [
        {
          "output_type": "stream",
          "text": [
            "Class label distribution:  [40 49 35]\n"
          ],
          "name": "stdout"
        }
      ]
    },
    {
      "cell_type": "code",
      "metadata": {
        "id": "cFBFR0u2tRmG",
        "colab_type": "code",
        "outputId": "9445254e-fc7b-4936-ac0d-2c60f2002ec0",
        "colab": {
          "base_uri": "https://localhost:8080/",
          "height": 34
        }
      },
      "source": [
        "print('Class label distribution: %s' % np.bincount(y_train)[1:])"
      ],
      "execution_count": 17,
      "outputs": [
        {
          "output_type": "stream",
          "text": [
            "Class label distribution: [40 49 35]\n"
          ],
          "name": "stdout"
        }
      ]
    },
    {
      "cell_type": "markdown",
      "metadata": {
        "id": "U46loaRStRmP",
        "colab_type": "text"
      },
      "source": [
        "so we will want to scale the scatter matrices S_i before we sum them up as S_W. When we divide scatter matrices by the number of class samples N_i, we can see that co,pitinmg the scatter matrix, is the same as computing covariance matrix (Sigma_i), covariance matrix is normalized scatter matrix"
      ]
    },
    {
      "cell_type": "code",
      "metadata": {
        "id": "1bLnBDlutRmR",
        "colab_type": "code",
        "outputId": "629c8eac-40a9-41c6-b8e9-995bc814c394",
        "colab": {
          "base_uri": "https://localhost:8080/",
          "height": 34
        }
      },
      "source": [
        "d = 13 # number of features\n",
        "S_W = np.zeros((d, d))\n",
        "for label,mv in zip(range(1, 4), mean_vecs):\n",
        "    class_scatter = np.cov(X_train_std[y_train==label].T)\n",
        "    S_W += class_scatter\n",
        "print('Scaled within-class scatter matrix: %sx%s' \n",
        "      % (S_W.shape[0], S_W.shape[1]))"
      ],
      "execution_count": 18,
      "outputs": [
        {
          "output_type": "stream",
          "text": [
            "Scaled within-class scatter matrix: 13x13\n"
          ],
          "name": "stdout"
        }
      ]
    },
    {
      "cell_type": "code",
      "metadata": {
        "id": "Vn1ux2nStRmx",
        "colab_type": "code",
        "outputId": "104ba5f5-a1b2-44f8-f492-bee1b91f4cca",
        "colab": {
          "base_uri": "https://localhost:8080/",
          "height": 34
        }
      },
      "source": [
        "mean_overall = np.mean(X_train_std, axis=0)\n",
        "d = 13 # number of features\n",
        "S_B = np.zeros((d, d))\n",
        "for i,mean_vec in enumerate(mean_vecs):\n",
        "    n = X[y==i+1, :].shape[0]\n",
        "    mean_vec = mean_vec.reshape(d, 1)\n",
        "    mean_overall = mean_overall.reshape(d, 1) \n",
        "S_B += n * (mean_vec - mean_overall).dot(\n",
        "               (mean_vec - mean_overall).T)\n",
        "print('Between-class scatter matrix: %sx%s' \n",
        "   % (S_B.shape[0], S_B.shape[1]))\n",
        "    "
      ],
      "execution_count": 19,
      "outputs": [
        {
          "output_type": "stream",
          "text": [
            "Between-class scatter matrix: 13x13\n"
          ],
          "name": "stdout"
        }
      ]
    },
    {
      "cell_type": "markdown",
      "metadata": {
        "id": "Y6CYITQUtRm5",
        "colab_type": "text"
      },
      "source": [
        "#### Selecting linear discriminants for the new feature subspeace\n",
        "inv(S_W)*S_B"
      ]
    },
    {
      "cell_type": "code",
      "metadata": {
        "id": "7bjW4-4ftRm6",
        "colab_type": "code",
        "colab": {}
      },
      "source": [
        "eigen_vals, eigen_vecs =\\\n",
        "np.linalg.eig(np.linalg.inv(S_W).dot(S_B))"
      ],
      "execution_count": 0,
      "outputs": []
    },
    {
      "cell_type": "code",
      "metadata": {
        "id": "Hk9q6Y85tRnC",
        "colab_type": "code",
        "outputId": "0fe54077-b457-4cca-b789-566f287b24b9",
        "colab": {
          "base_uri": "https://localhost:8080/",
          "height": 272
        }
      },
      "source": [
        "## Sort eigenvalues in descending order\n",
        "eigen_pairs = [(np.abs(eigen_vals[i]), eigen_vecs[:,i]) \n",
        "             for i in range(len(eigen_vals))]\n",
        "eigen_pairs = sorted(eigen_pairs, \n",
        "              key=lambda k: k[0], reverse=True)\n",
        "print('Eigenvalues in decreasing order:\\n')\n",
        "for eigen_val in eigen_pairs:\n",
        "    print(eigen_val[0])\n"
      ],
      "execution_count": 21,
      "outputs": [
        {
          "output_type": "stream",
          "text": [
            "Eigenvalues in decreasing order:\n",
            "\n",
            "370.01109651149636\n",
            "3.5083311981833894e-14\n",
            "3.2210038411701295e-14\n",
            "3.2210038411701295e-14\n",
            "2.2485033644619486e-14\n",
            "2.2485033644619486e-14\n",
            "8.041785613056975e-15\n",
            "4.743744792304841e-15\n",
            "3.2818099854219554e-15\n",
            "1.2343844649283207e-15\n",
            "1.2343844649283207e-15\n",
            "6.640705531326509e-17\n",
            "0.0\n"
          ],
          "name": "stdout"
        }
      ]
    },
    {
      "cell_type": "code",
      "metadata": {
        "id": "rDUspb_5tRnJ",
        "colab_type": "code",
        "outputId": "3d7d96b7-fd2c-4acf-84bd-f708d2521de8",
        "colab": {
          "base_uri": "https://localhost:8080/",
          "height": 283
        }
      },
      "source": [
        "tot = sum(eigen_vals.real)\n",
        "discr = [(i/tot) for i in sorted(eigen_vals.real, reverse=True)]\n",
        "cum_discr = np.cumsum(discr)\n",
        "plt.bar(range(1,14), discr, alpha=0.5, align='center', \n",
        "       label='individual \"discriminability\"')\n",
        "plt.step(range(1,14), cum_discr, where='mid', \n",
        "         label='cumulative \"discriminability\"')\n",
        "plt.ylabel('\"descriminability\" ratio')\n",
        "plt.xlabel('Linear Discriminants')\n",
        "plt.ylim([-0.1, 1.1])\n",
        "plt.legend(loc='best')\n",
        "plt.show()\n"
      ],
      "execution_count": 22,
      "outputs": [
        {
          "output_type": "display_data",
          "data": {
            "image/png": "[encoded data removed]",
            "text/plain": [
              "<Figure size 432x288 with 1 Axes>"
            ]
          },
          "metadata": {
            "tags": []
          }
        }
      ]
    },
    {
      "cell_type": "code",
      "metadata": {
        "id": "xxABuO-OtRnO",
        "colab_type": "code",
        "outputId": "01dbf203-25e1-4c04-d331-3049efa16362",
        "colab": {
          "base_uri": "https://localhost:8080/",
          "height": 255
        }
      },
      "source": [
        "## stacking the two (I have 1) most discriminative eigenvector cols\n",
        "## to create the transformation matrix W\n",
        "# w = np.hstack((eigen_pairs[0][1][:,np.newaxis].real,\n",
        "#               eigen_pairs[1][1][:,np.newaxis].real))\n",
        " # *different from book numbers*\n",
        "w = np.matrix([\n",
        "        [-0.0707, -0.3778],\n",
        "        [ 0.0359, -0.2223],\n",
        "        [-0.0263, -0.3813],\n",
        "        [ 0.1875,  0.2955],\n",
        "        [-0.0033,  0.0143],\n",
        "        [ 0.2328,  0.0151],\n",
        "        [-0.7719,  0.2149],\n",
        "        [-0.0803,  0.0726],\n",
        "        [ 0.0896,  0.1767],\n",
        "        [ 0.1815, -0.2909],\n",
        "        [-0.0631,  0.2376],\n",
        "        [-0.3794,  0.0867],\n",
        "        [-0.3355, -0.586 ]])\n",
        "print('Matrix W:\\n', w)"
      ],
      "execution_count": 23,
      "outputs": [
        {
          "output_type": "stream",
          "text": [
            "Matrix W:\n",
            " [[-0.0707 -0.3778]\n",
            " [ 0.0359 -0.2223]\n",
            " [-0.0263 -0.3813]\n",
            " [ 0.1875  0.2955]\n",
            " [-0.0033  0.0143]\n",
            " [ 0.2328  0.0151]\n",
            " [-0.7719  0.2149]\n",
            " [-0.0803  0.0726]\n",
            " [ 0.0896  0.1767]\n",
            " [ 0.1815 -0.2909]\n",
            " [-0.0631  0.2376]\n",
            " [-0.3794  0.0867]\n",
            " [-0.3355 -0.586 ]]\n"
          ],
          "name": "stdout"
        }
      ]
    },
    {
      "cell_type": "markdown",
      "metadata": {
        "id": "PhBq-bVNtRnT",
        "colab_type": "text"
      },
      "source": [
        "#### Projecting samples onto the new feature space"
      ]
    },
    {
      "cell_type": "code",
      "metadata": {
        "id": "qqX0zgXWE1xc",
        "colab_type": "code",
        "outputId": "da783798-1d20-493c-dfe4-64b40c4480ab",
        "colab": {
          "base_uri": "https://localhost:8080/",
          "height": 295
        }
      },
      "source": [
        "from sklearn.discriminant_analysis import LinearDiscriminantAnalysis as LDA\n",
        "lda = LDA(n_components=2)\n",
        "X_train_lda = lda.fit_transform(X_train_std, y_train)\n",
        "\n",
        "# plot X_train_lda to verify that its now linearly separable\n",
        "colors = ['r', 'b', 'g']\n",
        "markers = ['s', 'x', 'o']\n",
        "\n",
        "for l,c,m in zip(np.unique(y_train), colors, markers):\n",
        "    plt.scatter(X_train_lda[y_train==l, 0], X_train_lda[y_train==l, 1], c=c, label=l, marker=m)\n",
        "\n",
        "plt.xlabel(\"LD1\")\n",
        "plt.ylabel(\"LD2\")\n",
        "plt.legend(loc=\"upper right\")\n",
        "plt.title(\"Plt transformed training data\")\n",
        "plt.show()"
      ],
      "execution_count": 24,
      "outputs": [
        {
          "output_type": "display_data",
          "data": {
            "image/png": "[encoded data removed]",
            "text/plain": [
              "<Figure size 432x288 with 1 Axes>"
            ]
          },
          "metadata": {
            "tags": []
          }
        }
      ]
    },
    {
      "cell_type": "code",
      "metadata": {
        "id": "uxfLbtSXtRnh",
        "colab_type": "code",
        "colab": {}
      },
      "source": [
        "## LDA in scikit-learn\n",
        "from sklearn.discriminant_analysis import LinearDiscriminantAnalysis as LDA\n",
        "lda = LDA(n_components = 2)\n",
        "X_train_lda = lda.fit_transform(X_train_std, y_train)"
      ],
      "execution_count": 0,
      "outputs": []
    },
    {
      "cell_type": "code",
      "metadata": {
        "id": "B9XJ_HUBtRnu",
        "colab_type": "code",
        "outputId": "7e804472-5f76-4c53-b4cf-1b3276b6bdf6",
        "colab": {
          "base_uri": "https://localhost:8080/",
          "height": 422
        }
      },
      "source": [
        "## how logistic regression classifier handles lower-dimensional\n",
        "## training dataset after LDA transformation\n",
        "lr = LogisticRegression()\n",
        "lr = lr.fit(X_train_lda, y_train)\n",
        "plot_decision_regions(X_train, y_train,\n",
        "                     classifier=lr)\n",
        "plt.xlabel('LD 1')\n",
        "plt.ylabel('LD 2')\n",
        "plt.legend(loc='lower left')\n",
        "plt.show()\n",
        "## BAD DATA** bad plot code is correct though :)"
      ],
      "execution_count": 26,
      "outputs": [
        {
          "output_type": "stream",
          "text": [
            "/usr/local/lib/python3.6/dist-packages/sklearn/linear_model/logistic.py:432: FutureWarning: Default solver will be changed to 'lbfgs' in 0.22. Specify a solver to silence this warning.\n",
            "  FutureWarning)\n",
            "/usr/local/lib/python3.6/dist-packages/sklearn/linear_model/logistic.py:469: FutureWarning: Default multi_class will be changed to 'auto' in 0.22. Specify the multi_class option to silence this warning.\n",
            "  \"this warning.\", FutureWarning)\n",
            "'c' argument looks like a single numeric RGB or RGBA sequence, which should be avoided as value-mapping will have precedence in case its length matches with 'x' & 'y'.  Please use a 2-D array with a single row if you really want to specify the same RGB or RGBA value for all points.\n",
            "'c' argument looks like a single numeric RGB or RGBA sequence, which should be avoided as value-mapping will have precedence in case its length matches with 'x' & 'y'.  Please use a 2-D array with a single row if you really want to specify the same RGB or RGBA value for all points.\n",
            "'c' argument looks like a single numeric RGB or RGBA sequence, which should be avoided as value-mapping will have precedence in case its length matches with 'x' & 'y'.  Please use a 2-D array with a single row if you really want to specify the same RGB or RGBA value for all points.\n"
          ],
          "name": "stderr"
        },
        {
          "output_type": "display_data",
          "data": {
            "image/png": "[encoded data removed]",
            "text/plain": [
              "<Figure size 432x288 with 1 Axes>"
            ]
          },
          "metadata": {
            "tags": []
          }
        }
      ]
    },
    {
      "cell_type": "code",
      "metadata": {
        "id": "xGZUSptbtRnz",
        "colab_type": "code",
        "outputId": "b2e7c3dc-3853-42b0-d7d8-2ba0f50837ef",
        "colab": {
          "base_uri": "https://localhost:8080/",
          "height": 354
        }
      },
      "source": [
        "### hmm test data is classified correctly - this one is good!\n",
        "X_test_lda = lda.transform(X_test_std)\n",
        "plot_decision_regions(X_test_lda, y_test,\n",
        "                     classifier=lr)\n",
        "plt.xlabel('LD 1')\n",
        "plt.ylabel('LD 2')\n",
        "plt.legend(loc='lower left')\n",
        "plt.show()"
      ],
      "execution_count": 27,
      "outputs": [
        {
          "output_type": "stream",
          "text": [
            "'c' argument looks like a single numeric RGB or RGBA sequence, which should be avoided as value-mapping will have precedence in case its length matches with 'x' & 'y'.  Please use a 2-D array with a single row if you really want to specify the same RGB or RGBA value for all points.\n",
            "'c' argument looks like a single numeric RGB or RGBA sequence, which should be avoided as value-mapping will have precedence in case its length matches with 'x' & 'y'.  Please use a 2-D array with a single row if you really want to specify the same RGB or RGBA value for all points.\n",
            "'c' argument looks like a single numeric RGB or RGBA sequence, which should be avoided as value-mapping will have precedence in case its length matches with 'x' & 'y'.  Please use a 2-D array with a single row if you really want to specify the same RGB or RGBA value for all points.\n"
          ],
          "name": "stderr"
        },
        {
          "output_type": "display_data",
          "data": {
            "image/png": "[encoded data removed]",
            "text/plain": [
              "<Figure size 432x288 with 1 Axes>"
            ]
          },
          "metadata": {
            "tags": []
          }
        }
      ]
    },
    {
      "cell_type": "markdown",
      "metadata": {
        "id": "v8B3NvLJtRn-",
        "colab_type": "text"
      },
      "source": [
        "## Using Kernel principal component analysis for nonlinear mappings\n",
        "New Data (moons) should be aite"
      ]
    },
    {
      "cell_type": "markdown",
      "metadata": {
        "id": "ex1ZxhFmtRoB",
        "colab_type": "text"
      },
      "source": [
        "### implementing kernel pca"
      ]
    },
    {
      "cell_type": "code",
      "metadata": {
        "id": "reMlT3ogtRoD",
        "colab_type": "code",
        "colab": {}
      },
      "source": [
        "from scipy.spatial.distance import pdist, squareform\n",
        "from scipy import exp\n",
        "from scipy.linalg import eigh\n",
        "import numpy as np\n",
        "\n",
        "def rbf_kernel_pca(X, gamma, n_components):\n",
        "    \"\"\"\n",
        "    RBF kernel PCA implementation.\n",
        "\n",
        "    Parameters\n",
        "    ------------\n",
        "    X: {NumPy ndarray}, shape = [n_samples, n_features]\n",
        "\n",
        "    gamma: float\n",
        "      Tuning parameter of the RBF kernel\n",
        "\n",
        "    n_components: int\n",
        "      Number of principal components to return\n",
        "\n",
        "    Returns\n",
        "    ------------\n",
        "     X_pc: {NumPy ndarray}, shape = [n_samples, k_features]\n",
        "       Projected dataset   \n",
        "\n",
        "    \"\"\"\n",
        "    # Calculate pairwise squared Euclidean distances\n",
        "    # in the MxN dimensional dataset.\n",
        "    sq_dists = pdist(X, 'sqeuclidean')\n",
        "\n",
        "    # Convert pairwise distances into a square matrix.\n",
        "    mat_sq_dists = squareform(sq_dists)\n",
        "\n",
        "    # Compute the symmetric kernel matrix.\n",
        "    K = exp(-gamma * mat_sq_dists)\n",
        "\n",
        "    # Center the kernel matrix.\n",
        "    N = K.shape[0]\n",
        "    one_n = np.ones((N,N)) / N\n",
        "    K = K - one_n.dot(K) - K.dot(one_n) + one_n.dot(K).dot(one_n)\n",
        "\n",
        "    # Obtaining eigenpairs from the centered kernel matrix\n",
        "    # numpy.eigh returns them in sorted order\n",
        "    eigvals, eigvecs = eigh(K)\n",
        "\n",
        "    # Collect the top k eigenvectors (projected samples)\n",
        "    X_pc = np.column_stack((eigvecs[:, -i] \n",
        "                            for i in range(1, n_components + 1)))\n",
        "\n",
        "    return X_pc"
      ],
      "execution_count": 0,
      "outputs": []
    },
    {
      "cell_type": "markdown",
      "metadata": {
        "id": "YBssPV5-tRoR",
        "colab_type": "text"
      },
      "source": [
        "## Example 1: Separating half-moon shapes"
      ]
    },
    {
      "cell_type": "code",
      "metadata": {
        "id": "c7K9R_ZKtRoS",
        "colab_type": "code",
        "outputId": "dfed3872-39eb-429d-93ce-917d01867fe6",
        "colab": {
          "base_uri": "https://localhost:8080/",
          "height": 269
        }
      },
      "source": [
        "from sklearn.datasets import make_moons\n",
        "X, y = make_moons(n_samples=100, random_state=123)\n",
        "plt.scatter(X[y==0, 0], X[y==0, 1], color='red', marker='^',\n",
        "           alpha=0.5)\n",
        "plt.scatter(X[y==1, 0], X[y==1, 1], color='blue', marker='o',\n",
        "           alpha=0.5)\n",
        "plt.show()"
      ],
      "execution_count": 29,
      "outputs": [
        {
          "output_type": "display_data",
          "data": {
            "image/png": "[encoded data removed]",
            "text/plain": [
              "<Figure size 432x288 with 1 Axes>"
            ]
          },
          "metadata": {
            "tags": []
          }
        }
      ]
    },
    {
      "cell_type": "code",
      "metadata": {
        "id": "I0Bi-ubptRoX",
        "colab_type": "code",
        "outputId": "d907f9d8-4756-4968-eb5e-618cc4817ef8",
        "colab": {
          "base_uri": "https://localhost:8080/",
          "height": 229
        }
      },
      "source": [
        "## clearly plot above not linearly separable\n",
        "from sklearn.decomposition import PCA\n",
        "scikit_pca = PCA(n_components=2)\n",
        "X_spca = scikit_pca.fit_transform(X)\n",
        "fig, ax = plt.subplots(nrows=1,ncols=2, figsize=(7,3))\n",
        "ax[0].scatter(X_spca[y==0, 0], X_spca[y==0, 1], \n",
        "              color='red', marker='^', alpha=0.5)\n",
        "ax[0].scatter(X_spca[y==1, 0], X_spca[y==1, 1],\n",
        "              color='blue', marker='o', alpha=0.5)\n",
        "ax[1].scatter(X_spca[y==0, 0], np.zeros((50,1))+0.02, \n",
        "              color='red', marker='^', alpha=0.5)\n",
        "ax[1].scatter(X_spca[y==1, 0], np.zeros((50,1))-0.02,\n",
        "              color='blue', marker='o', alpha=0.5)\n",
        "ax[0].set_xlabel('PC1')\n",
        "ax[0].set_ylabel('PC2')\n",
        "ax[1].set_ylim([-1, 1])\n",
        "ax[1].set_yticks([])\n",
        "ax[1].set_xlabel('PC1')\n",
        "plt.show()"
      ],
      "execution_count": 30,
      "outputs": [
        {
          "output_type": "display_data",
          "data": {
            "image/png": "[encoded data removed]",
            "text/plain": [
              "<Figure size 504x216 with 2 Axes>"
            ]
          },
          "metadata": {
            "tags": []
          }
        }
      ]
    },
    {
      "cell_type": "code",
      "metadata": {
        "id": "1bB5zqzUtRoh",
        "colab_type": "code",
        "outputId": "9d0c8e13-a7ee-4b37-8b5d-9b21496f08d5",
        "colab": {
          "base_uri": "https://localhost:8080/",
          "height": 265
        }
      },
      "source": [
        "from matplotlib.ticker import FormatStrFormatter\n",
        "X_kpca = rbf_kernel_pca(X, gamma=15, n_components=2)\n",
        "fig, ax = plt.subplots(nrows=1,ncols=2, figsize=(7,3))\n",
        "ax[0].scatter(X_kpca[y==0, 0], X_kpca[y==0, 1], \n",
        "              color='red', marker='^', alpha=0.5)\n",
        "ax[0].scatter(X_kpca[y==1, 0], X_kpca[y==1, 1],\n",
        "              color='blue', marker='o', alpha=0.5)\n",
        "ax[1].scatter(X_kpca[y==0, 0], np.zeros((50,1))+0.02, \n",
        "              color='red', marker='^', alpha=0.5)\n",
        "ax[1].scatter(X_kpca[y==1, 0], np.zeros((50,1))-0.02,\n",
        "              color='blue', marker='o', alpha=0.5)\n",
        "ax[0].set_xlabel('PC1')\n",
        "ax[0].set_ylabel('PC2')\n",
        "ax[1].set_ylim([-1, 1])\n",
        "ax[1].set_yticks([])\n",
        "ax[1].set_xlabel('PC1')\n",
        "ax[0].xaxis.set_major_formatter(FormatStrFormatter('%0.1f'))\n",
        "ax[1].xaxis.set_major_formatter(FormatStrFormatter('%0.1f'))\n",
        "plt.show()"
      ],
      "execution_count": 31,
      "outputs": [
        {
          "output_type": "stream",
          "text": [
            "/usr/local/lib/python3.6/dist-packages/ipykernel_launcher.py:47: FutureWarning: arrays to stack must be passed as a \"sequence\" type such as list or tuple. Support for non-sequence iterables such as generators is deprecated as of NumPy 1.16 and will raise an error in the future.\n"
          ],
          "name": "stderr"
        },
        {
          "output_type": "display_data",
          "data": {
            "image/png": "[encoded data removed]",
            "text/plain": [
              "<Figure size 504x216 with 2 Axes>"
            ]
          },
          "metadata": {
            "tags": []
          }
        }
      ]
    },
    {
      "cell_type": "markdown",
      "metadata": {
        "id": "xGq4rwXVtRon",
        "colab_type": "text"
      },
      "source": [
        "notice now we are linearly separable!!"
      ]
    },
    {
      "cell_type": "markdown",
      "metadata": {
        "collapsed": true,
        "id": "X3EUhYDBtRoq",
        "colab_type": "text"
      },
      "source": [
        "## Example 2: Separating concentric circles"
      ]
    },
    {
      "cell_type": "code",
      "metadata": {
        "id": "vGIvBelttRou",
        "colab_type": "code",
        "outputId": "02ad5c67-aa90-42bc-919f-36f75a792234",
        "colab": {
          "base_uri": "https://localhost:8080/",
          "height": 269
        }
      },
      "source": [
        "from sklearn.datasets import make_circles\n",
        "X, y = make_circles(n_samples=1000,\n",
        "                   random_state=123, noise=0.1, factor=0.2)\n",
        "plt.scatter(X[y==0, 0], X[y==0, 1],\n",
        "           color='red', marker='^', alpha=0.5)\n",
        "plt.scatter(X[y==1, 0], X[y==1, 1],\n",
        "           color='blue', marker='o', alpha=0.5)\n",
        "plt.show()\n",
        "## 2 class problem\n",
        "## triangle, circle represent each class\n",
        "## but PCA unsupervised, so this is just for illustration,\n",
        "## classes would be unknown"
      ],
      "execution_count": 32,
      "outputs": [
        {
          "output_type": "display_data",
          "data": {
            "image/png": "[encoded data removed]",
            "text/plain": [
              "<Figure size 432x288 with 1 Axes>"
            ]
          },
          "metadata": {
            "tags": []
          }
        }
      ]
    },
    {
      "cell_type": "code",
      "metadata": {
        "id": "yS4KlC3etRoz",
        "colab_type": "code",
        "outputId": "9ee83e93-abb4-43b7-97a6-237cc1193839",
        "colab": {
          "base_uri": "https://localhost:8080/",
          "height": 228
        }
      },
      "source": [
        "## starting with standard PCA and will compare with RBF kernel PCA\n",
        "scikit_pca = PCA(n_components=2)\n",
        "X_spca = scikit_pca.fit_transform(X)\n",
        "fix, ax = plt.subplots(nrows=1, ncols=2, figsize=(7,3))\n",
        "ax[0].scatter(X_spca[y==0, 0], X_spca[y==0, 1], \n",
        "              color='red', marker='^', alpha=0.5)\n",
        "ax[0].scatter(X_spca[y==1, 0], X_spca[y==1, 1],\n",
        "              color='blue', marker='o', alpha=0.5)\n",
        "ax[1].scatter(X_spca[y==0, 0], np.zeros((500,1))+0.02, \n",
        "             color='red', marker='^', alpha=0.5)\n",
        "ax[1].scatter(X_spca[y==1, 0], np.zeros((500,1))-0.02,\n",
        "              color='blue', marker='o', alpha=0.5)\n",
        "ax[0].set_xlabel('PC1')\n",
        "ax[0].set_ylabel('PC2')\n",
        "ax[1].set_ylim([-1, 1])\n",
        "ax[1].set_yticks([])\n",
        "ax[1].set_xlabel('PC1')\n",
        "plt.show()\n",
        "## we again see standard PCA produces results suitable for linear\n",
        "## classifier"
      ],
      "execution_count": 33,
      "outputs": [
        {
          "output_type": "display_data",
          "data": {
            "image/png": "[encoded data removed]",
            "text/plain": [
              "<Figure size 504x216 with 2 Axes>"
            ]
          },
          "metadata": {
            "tags": []
          }
        }
      ]
    },
    {
      "cell_type": "code",
      "metadata": {
        "id": "AFnjKbOptRo2",
        "colab_type": "code",
        "outputId": "9a92444e-1498-4f24-90c2-cff1fe3449c1",
        "colab": {
          "base_uri": "https://localhost:8080/",
          "height": 265
        }
      },
      "source": [
        "X_kpca = rbf_kernel_pca(X, gamma=15, n_components=2)\n",
        "fig, ax = plt.subplots(nrows=1, ncols=2, figsize=(7,3))\n",
        "ax[0].scatter(X_kpca[y==0, 0], X_kpca[y==0, 1], \n",
        "              color='red', marker='^', alpha=0.5)\n",
        "ax[0].scatter(X_kpca[y==1, 0], X_kpca[y==1, 1],\n",
        "              color='blue', marker='o', alpha=0.5)\n",
        "ax[1].scatter(X_kpca[y==0, 0], np.zeros((500,1))+0.02, \n",
        "              color='red', marker='^', alpha=0.5)\n",
        "ax[1].scatter(X_kpca[y==1, 0], np.zeros((500,1))-0.02,\n",
        "              color='blue', marker='o', alpha=0.5)\n",
        "ax[0].set_xlabel('PC1')\n",
        "ax[0].set_ylabel('PC2')\n",
        "ax[1].set_ylim([-1, 1])\n",
        "ax[1].set_yticks([])\n",
        "ax[1].set_xlabel('PC1')\n",
        "plt.show()\n",
        "## projection made classes linearly separable"
      ],
      "execution_count": 34,
      "outputs": [
        {
          "output_type": "stream",
          "text": [
            "/usr/local/lib/python3.6/dist-packages/ipykernel_launcher.py:47: FutureWarning: arrays to stack must be passed as a \"sequence\" type such as list or tuple. Support for non-sequence iterables such as generators is deprecated as of NumPy 1.16 and will raise an error in the future.\n"
          ],
          "name": "stderr"
        },
        {
          "output_type": "display_data",
          "data": {
            "image/png": "[encoded data removed]",
            "text/plain": [
              "<Figure size 504x216 with 2 Axes>"
            ]
          },
          "metadata": {
            "tags": []
          }
        }
      ]
    },
    {
      "cell_type": "markdown",
      "metadata": {
        "id": "3F3eznVDtRo_",
        "colab_type": "text"
      },
      "source": [
        "#### Projecting New Data"
      ]
    },
    {
      "cell_type": "markdown",
      "metadata": {
        "id": "OlEkUBMutRpA",
        "colab_type": "text"
      },
      "source": [
        "Since kernel based PCA is memory based meaning need to reuse original training set each time project new sample. SO have to calculate RBF(similarity) between each <b>i</b>th sample in training set and new sample <b>x'</b>"
      ]
    },
    {
      "cell_type": "code",
      "metadata": {
        "id": "ZoxuwxLXtRpB",
        "colab_type": "code",
        "colab": {}
      },
      "source": [
        "## after calculating the similarity between samples, \n",
        "## we have to normalize the eigenvector a by its eigenvalue\n",
        "from scipy.spatial.distance import pdist, squareform\n",
        "from scipy import exp\n",
        "from scipy.linalg import eigh\n",
        "import numpy as np\n",
        "\n",
        "def rbf_kernel_pca(X, gamma, n_components):\n",
        "    \"\"\"\n",
        "    RBF kernel PCA implementation.\n",
        "\n",
        "    Parameters\n",
        "    ------------\n",
        "    X: {NumPy ndarray}, shape = [n_samples, n_features]\n",
        "\n",
        "    gamma: float\n",
        "      Tuning parameter of the RBF kernel\n",
        "\n",
        "    n_components: int\n",
        "      Number of principal components to return\n",
        "\n",
        "    Returns\n",
        "    ------------\n",
        "     X_pc: {NumPy ndarray}, shape = [n_samples, k_features]\n",
        "       Projected dataset   \n",
        "\n",
        "     lambdas: list\n",
        "       Eigenvalues\n",
        "\n",
        "    \"\"\"\n",
        "    # Calculate pairwise squared Euclidean distances\n",
        "    # in the MxN dimensional dataset.\n",
        "    sq_dists = pdist(X, 'sqeuclidean')\n",
        "\n",
        "    # Convert pairwise distances into a square matrix.\n",
        "    mat_sq_dists = squareform(sq_dists)\n",
        "\n",
        "    # Compute the symmetric kernel matrix.\n",
        "    K = exp(-gamma * mat_sq_dists)\n",
        "\n",
        "    # Center the kernel matrix.\n",
        "    N = K.shape[0]\n",
        "    one_n = np.ones((N,N)) / N\n",
        "    K = K - one_n.dot(K) - K.dot(one_n) + one_n.dot(K).dot(one_n)\n",
        "\n",
        "    # Obtaining eigenpairs from the centered kernel matrix\n",
        "    # numpy.eigh returns them in sorted order\n",
        "    eigvals, eigvecs = eigh(K)\n",
        "\n",
        "    # Collect the top k eigenvectors (projected samples)\n",
        "    alphas = np.column_stack((eigvecs[:,-i] \n",
        "                    for i in range(1,n_components+1)))\n",
        "\n",
        "    # Collect the corresponding eigenvalues\n",
        "    lambdas = [eigvals[-i] for i in range(1,n_components+1)]\n",
        "\n",
        "    return alphas, lambdas"
      ],
      "execution_count": 0,
      "outputs": []
    },
    {
      "cell_type": "code",
      "metadata": {
        "id": "9TwmSd2WtRpL",
        "colab_type": "code",
        "outputId": "e2c79cd4-7f8e-42e5-ea29-31a35c775c63",
        "colab": {
          "base_uri": "https://localhost:8080/",
          "height": 54
        }
      },
      "source": [
        "X, y = make_moons(n_samples=100, random_state=123)\n",
        "alphas, lambdas = rbf_kernel_pca(X, gamma=15, n_components=1)"
      ],
      "execution_count": 36,
      "outputs": [
        {
          "output_type": "stream",
          "text": [
            "/usr/local/lib/python3.6/dist-packages/ipykernel_launcher.py:50: FutureWarning: arrays to stack must be passed as a \"sequence\" type such as list or tuple. Support for non-sequence iterables such as generators is deprecated as of NumPy 1.16 and will raise an error in the future.\n"
          ],
          "name": "stderr"
        }
      ]
    },
    {
      "cell_type": "code",
      "metadata": {
        "id": "4tDq1fUWtRpQ",
        "colab_type": "code",
        "outputId": "d1e35cb2-2bf8-4b73-fb26-11f4e7787d75",
        "colab": {
          "base_uri": "https://localhost:8080/",
          "height": 34
        }
      },
      "source": [
        "## to mke sure implemented code for projecting new samples\n",
        "## lets treat 26th point from half-moon set as now data point x'\n",
        "## objective is to project it onto this new subspace\n",
        "x_new = X[25]\n",
        "x_new"
      ],
      "execution_count": 37,
      "outputs": [
        {
          "output_type": "execute_result",
          "data": {
            "text/plain": [
              "array([1.8713, 0.0093])"
            ]
          },
          "metadata": {
            "tags": []
          },
          "execution_count": 37
        }
      ]
    },
    {
      "cell_type": "code",
      "metadata": {
        "id": "jciiHbD1tRpi",
        "colab_type": "code",
        "outputId": "92523aaa-6553-4a97-a25e-55f6aa0208bf",
        "colab": {
          "base_uri": "https://localhost:8080/",
          "height": 34
        }
      },
      "source": [
        "x_proj = alphas[25] # original projection\n",
        "x_proj"
      ],
      "execution_count": 38,
      "outputs": [
        {
          "output_type": "execute_result",
          "data": {
            "text/plain": [
              "array([0.0788])"
            ]
          },
          "metadata": {
            "tags": []
          },
          "execution_count": 38
        }
      ]
    },
    {
      "cell_type": "code",
      "metadata": {
        "id": "-tZG6QN8tRpr",
        "colab_type": "code",
        "colab": {}
      },
      "source": [
        "def project_x(n_new, X, gamma, alphas, lambdas):\n",
        "    pair_dist = np.array([np.sum(\n",
        "            (x_new-row)**2) for row in X])\n",
        "    k=np.exp(-gamma * pair_dist)\n",
        "    return k.dot(alphas / lambdas)"
      ],
      "execution_count": 0,
      "outputs": []
    },
    {
      "cell_type": "code",
      "metadata": {
        "id": "-9tbcPXqtRqA",
        "colab_type": "code",
        "outputId": "c8ddf0fe-095b-49ba-a9e1-5ab7231b2110",
        "colab": {
          "base_uri": "https://localhost:8080/",
          "height": 34
        }
      },
      "source": [
        "## reproduce original projection, Using project_x() will\n",
        "## be able to proejct any new samples as well\n",
        "x_reproj = project_x(x_new, X, gamma=15, alphas=alphas,\n",
        "                    lambdas=lambdas)\n",
        "x_reproj"
      ],
      "execution_count": 40,
      "outputs": [
        {
          "output_type": "execute_result",
          "data": {
            "text/plain": [
              "array([0.0788])"
            ]
          },
          "metadata": {
            "tags": []
          },
          "execution_count": 40
        }
      ]
    },
    {
      "cell_type": "code",
      "metadata": {
        "id": "-fiaK65vtRqH",
        "colab_type": "code",
        "outputId": "90e8eb8a-e84e-400e-b124-ecb0e4529e28",
        "colab": {
          "base_uri": "https://localhost:8080/",
          "height": 269
        }
      },
      "source": [
        "plt.scatter(alphas[y==0, 0], np.zeros((50)), \n",
        "            color='red', marker='^',alpha=0.5)\n",
        "plt.scatter(alphas[y==1, 0], np.zeros((50)), \n",
        "            color='blue', marker='o', alpha=0.5)\n",
        "plt.scatter(x_proj, 0, color='black', \n",
        "            label='original projection of point X[25]',\n",
        "            marker='^', s=100)\n",
        "plt.scatter(x_reproj, 0, color='green', \n",
        "            label='remapped point X[25]',\n",
        "            marker='x', s=500)\n",
        "plt.legend(scatterpoints=1)\n",
        "plt.show()"
      ],
      "execution_count": 41,
      "outputs": [
        {
          "output_type": "display_data",
          "data": {
            "image/png": "[encoded data removed]",
            "text/plain": [
              "<Figure size 432x288 with 1 Axes>"
            ]
          },
          "metadata": {
            "tags": []
          }
        }
      ]
    },
    {
      "cell_type": "markdown",
      "metadata": {
        "id": "7kPJHME8tRql",
        "colab_type": "text"
      },
      "source": [
        "## Kernal PCA in scikit-learn"
      ]
    },
    {
      "cell_type": "code",
      "metadata": {
        "id": "4DB2rz5htRqm",
        "colab_type": "code",
        "colab": {}
      },
      "source": [
        "from sklearn.decomposition import KernelPCA\n",
        "X, y = make_moons(n_samples=100, random_state=123)\n",
        "scikit_kpca = KernelPCA(n_components=2,\n",
        "                       kernel='rbf', gamma=15)\n",
        "X_skernpca = scikit_kpca.fit_transform(X)"
      ],
      "execution_count": 0,
      "outputs": []
    },
    {
      "cell_type": "code",
      "metadata": {
        "id": "dTiE3N1otRrC",
        "colab_type": "code",
        "outputId": "c58ac751-c46e-4704-d218-e6801847b68f",
        "colab": {
          "base_uri": "https://localhost:8080/",
          "height": 283
        }
      },
      "source": [
        "plt.scatter(X_skernpca[y==0, 0], X_skernpca[y==0, 1],\n",
        "           color='red', marker='^', alpha=0.5)\n",
        "plt.scatter(X_skernpca[y==1, 0], X_skernpca[y==1, 1],\n",
        "           color='blue', marker='o', alpha=0.5)\n",
        "plt.xlabel('PC1')\n",
        "plt.ylabel('PC2')\n",
        "plt.show()"
      ],
      "execution_count": 43,
      "outputs": [
        {
          "output_type": "display_data",
          "data": {
            "image/png": "[encoded data removed]",
            "text/plain": [
              "<Figure size 432x288 with 1 Axes>"
            ]
          },
          "metadata": {
            "tags": []
          }
        }
      ]
    },
    {
      "cell_type": "markdown",
      "metadata": {
        "id": "w3qkhTm_tRrJ",
        "colab_type": "text"
      },
      "source": [
        "# Summary\n",
        "In this chapter, you learned about three different, fundamental dimensionality reduction techniques for feature extraction: standard PCA, LDA, and kernel PCA. Using PCA, we projected data onto a lower-dimensional subspace to maximize the variance along the orthogonal feature axes while ignoring the class labels. LDA, in contrast to PCA, is a technique for supervised dimensionality reduction, which means that it considers class information in the training dataset to attempt to maximize the class-separability in a linear feature space. Lastly, you learned about a kernelized version of PCA, which allows you to map nonlinear datasets onto a lower-dimensional feature space where the classes become linearly separable."
      ]
    },
    {
      "cell_type": "code",
      "metadata": {
        "id": "IghSobQwtRrL",
        "colab_type": "code",
        "colab": {}
      },
      "source": [
        ""
      ],
      "execution_count": 0,
      "outputs": []
    }
  ]
}